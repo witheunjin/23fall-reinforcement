{
  "cells": [
    {
      "cell_type": "code",
      "execution_count": null,
      "metadata": {
        "colab": {
          "base_uri": "https://localhost:8080/"
        },
        "id": "UXTDs5QvGrEe",
        "outputId": "e6faa0a6-b193-48ae-edb0-8f84fa2035f8"
      },
      "outputs": [
        {
          "output_type": "stream",
          "name": "stdout",
          "text": [
            "Thu Oct 19 09:52:26 2023       \n",
            "+-----------------------------------------------------------------------------+\n",
            "| NVIDIA-SMI 525.105.17   Driver Version: 525.105.17   CUDA Version: 12.0     |\n",
            "|-------------------------------+----------------------+----------------------+\n",
            "| GPU  Name        Persistence-M| Bus-Id        Disp.A | Volatile Uncorr. ECC |\n",
            "| Fan  Temp  Perf  Pwr:Usage/Cap|         Memory-Usage | GPU-Util  Compute M. |\n",
            "|                               |                      |               MIG M. |\n",
            "|===============================+======================+======================|\n",
            "|   0  Tesla T4            Off  | 00000000:00:04.0 Off |                    0 |\n",
            "| N/A   55C    P8    10W /  70W |      0MiB / 15360MiB |      0%      Default |\n",
            "|                               |                      |                  N/A |\n",
            "+-------------------------------+----------------------+----------------------+\n",
            "                                                                               \n",
            "+-----------------------------------------------------------------------------+\n",
            "| Processes:                                                                  |\n",
            "|  GPU   GI   CI        PID   Type   Process name                  GPU Memory |\n",
            "|        ID   ID                                                   Usage      |\n",
            "|=============================================================================|\n",
            "|  No running processes found                                                 |\n",
            "+-----------------------------------------------------------------------------+\n"
          ]
        }
      ],
      "source": [
        "#!pip install --upgrade nvidia-pyindex\n",
        "##### Make sure that your colab use \"T4 GPU\"\n",
        "##### Check it on menu:: runtime > runtime type change\n",
        "!nvidia-smi"
      ]
    },
    {
      "cell_type": "code",
      "execution_count": null,
      "metadata": {
        "id": "8BcXLPN8GrEg"
      },
      "outputs": [],
      "source": [
        "import warnings ; warnings.filterwarnings('ignore')\n",
        "import os\n",
        "os.environ['CUDA_DEVICE_ORDER']='PCI_BUS_ID'\n",
        "os.environ['CUDA_VISIBLE_DEVICES']=''\n",
        "os.environ['OMP_NUM_THREADS'] = '1'\n",
        "\n",
        "import torch\n",
        "import torch.nn as nn\n",
        "import torch.nn.functional as F\n",
        "import torch.optim as optim\n",
        "import torch.multiprocessing as mp\n",
        "import threading\n",
        "\n",
        "import numpy as np\n",
        "from IPython.display import display\n",
        "from collections import namedtuple, deque\n",
        "import matplotlib.pyplot as plt\n",
        "import matplotlib.pylab as pylab\n",
        "from itertools import cycle, count\n",
        "from textwrap import wrap\n",
        "\n",
        "import matplotlib\n",
        "import subprocess\n",
        "import os.path\n",
        "import tempfile\n",
        "import random\n",
        "import base64\n",
        "import pprint\n",
        "import glob\n",
        "import time\n",
        "import json\n",
        "import sys\n",
        "import gym\n",
        "import io\n",
        "import os\n",
        "os.environ['KMP_DUPLICATE_LIB_OK']='True'\n",
        "import gc\n",
        "\n",
        "from gym import wrappers\n",
        "from subprocess import check_output\n",
        "from IPython.display import HTML\n",
        "\n",
        "LEAVE_PRINT_EVERY_N_SECS = 30\n",
        "ERASE_LINE = '\\x1b[2K'\n",
        "EPS = 1e-6\n",
        "\n",
        "%matplotlib inline"
      ]
    },
    {
      "cell_type": "code",
      "execution_count": null,
      "metadata": {
        "colab": {
          "base_uri": "https://localhost:8080/"
        },
        "id": "WicUZ5ZRGrEh",
        "outputId": "1b29cf7e-7490-4249-ecba-35edc0b9791b"
      },
      "outputs": [
        {
          "output_type": "execute_result",
          "data": {
            "text/plain": [
              "False"
            ]
          },
          "metadata": {},
          "execution_count": 4
        }
      ],
      "source": [
        "torch.cuda.is_available()"
      ]
    },
    {
      "cell_type": "markdown",
      "metadata": {
        "id": "SIkCo6IxGrEh"
      },
      "source": [
        "# Monte-Carlo REINFORCE\n",
        "### Policy Gradient model"
      ]
    },
    {
      "cell_type": "code",
      "execution_count": null,
      "metadata": {
        "id": "84C83xu6GrEi"
      },
      "outputs": [],
      "source": [
        "class PGmodel(nn.Module):\n",
        "    def __init__(self,\n",
        "                 input_dim,\n",
        "                 output_dim,\n",
        "                 hidden_dims=(32,32),\n",
        "                 activation_fc=F.relu):\n",
        "        super(PGmodel, self).__init__()\n",
        "        self.activation_fc = activation_fc\n",
        "\n",
        "        self.input_layer = nn.Linear(input_dim, hidden_dims[0])\n",
        "        self.hidden_layers = nn.ModuleList()\n",
        "        for i in range(len(hidden_dims)-1):\n",
        "            hidden_layer = nn.Linear(hidden_dims[i], hidden_dims[i+1])\n",
        "            self.hidden_layers.append(hidden_layer)\n",
        "        self.output_layer = nn.Linear(hidden_dims[-1], output_dim)\n",
        "\n",
        "    def _format(self, state):\n",
        "        x = state\n",
        "        if not isinstance(x, torch.Tensor):\n",
        "            x = torch.tensor(x, dtype=torch.float32)\n",
        "            x = x.unsqueeze(0)\n",
        "        return x\n",
        "\n",
        "    def forward(self, state):\n",
        "        x = self._format(state)\n",
        "        x = self.activation_fc(self.input_layer(x))\n",
        "        for hidden_layer in self.hidden_layers:\n",
        "            x = self.activation_fc(hidden_layer(x))\n",
        "        return self.output_layer(x)\n",
        "\n",
        "    def full_pass(self, state):\n",
        "        logits = self.forward(state)\n",
        "        dist = torch.distributions.Categorical(logits=logits)\n",
        "        action = dist.sample()\n",
        "        logpa = dist.log_prob(action).unsqueeze(-1)\n",
        "        entropy = dist.entropy().unsqueeze(-1)\n",
        "        is_exploratory = action != np.argmax(logits.detach().numpy())\n",
        "        return action.item(), is_exploratory.item(), logpa, entropy\n",
        "\n",
        "    def select_action(self, state):\n",
        "        logits = self.forward(state)\n",
        "        dist = torch.distributions.Categorical(logits=logits)\n",
        "        action = dist.sample()\n",
        "        return action.item()\n",
        "\n",
        "    def select_greedy_action(self, state):\n",
        "        logits = self.forward(state)\n",
        "        return np.argmax(logits.detach().numpy())"
      ]
    },
    {
      "cell_type": "markdown",
      "metadata": {
        "id": "sOVdUL1AGrEi"
      },
      "source": [
        "### REINFORCE Learning Functions"
      ]
    },
    {
      "cell_type": "code",
      "execution_count": null,
      "metadata": {
        "id": "zoi6cxUIGrEi"
      },
      "outputs": [],
      "source": [
        "def PG_interaction_step(agent, state, env, logpas, rewards,\n",
        "                     episode_reward, episode_timestep, episode_exploration):\n",
        "    action, is_exploratory, logpa, _ = agent.full_pass(state)\n",
        "    new_state, reward, is_terminal, _ = env.step(action)\n",
        "\n",
        "    logpas.append(logpa)\n",
        "    rewards.append(reward)\n",
        "\n",
        "    episode_reward[-1] += reward\n",
        "    episode_timestep[-1] += 1\n",
        "    episode_exploration[-1] += int(is_exploratory)\n",
        "\n",
        "    return new_state, is_terminal\n",
        "\n",
        "def optimizing_PGmodel(rewards, gamma, logpas, policy_optimizer):\n",
        "    T = len(rewards)\n",
        "    discounts = np.logspace(0, T, num=T, base=gamma, endpoint=False)\n",
        "    returns = np.array([np.sum(discounts[:T-t] * rewards[t:]) for t in range(T)])\n",
        "\n",
        "    discounts = torch.FloatTensor(discounts).unsqueeze(1)\n",
        "    returns = torch.FloatTensor(returns).unsqueeze(1)\n",
        "    logpas = torch.cat(logpas)\n",
        "\n",
        "    policy_loss = -(discounts * returns * logpas).mean()\n",
        "    policy_optimizer.zero_grad()\n",
        "    policy_loss.backward()\n",
        "    policy_optimizer.step()\n",
        "    return\n",
        "\n",
        "def evaluating(eval_policy_model, eval_env, n_episodes=1, greedy=True):\n",
        "    rs = []\n",
        "    for _ in range(n_episodes):\n",
        "        s, d = eval_env.reset(), False\n",
        "        rs.append(0)\n",
        "        for _ in count():\n",
        "            if greedy:\n",
        "                a = eval_policy_model.select_greedy_action(s)\n",
        "            else:\n",
        "                a = eval_policy_model.select_action(s)\n",
        "            s, r, d, _ = eval_env.step(a)\n",
        "            rs[-1] += r\n",
        "            if d: break\n",
        "    return np.mean(rs), np.std(rs)\n",
        "\n",
        "\n",
        "def stats(agent, env, training_time, last_debug_time, results,\n",
        "          episode_start, episode_seconds, episode_timestep, episode_reward, episode_exploration):\n",
        "    # stats\n",
        "    episode_elapsed = time.time() - episode_start\n",
        "    episode_seconds.append(episode_elapsed)\n",
        "    training_time += episode_elapsed\n",
        "    #evaluation_score, _ = self.evaluate(self.policy_model, env)\n",
        "    evaluation_score, _ = evaluating(agent, env)\n",
        "\n",
        "    total_step = int(np.sum(episode_timestep))\n",
        "    evaluation_scores.append(evaluation_score)\n",
        "\n",
        "    mean_10_reward = np.mean(episode_reward[-10:])\n",
        "    std_10_reward = np.std(episode_reward[-10:])\n",
        "    mean_100_reward = np.mean(episode_reward[-100:])\n",
        "    std_100_reward = np.std(episode_reward[-100:])\n",
        "    mean_100_eval_score = np.mean(evaluation_scores[-100:])\n",
        "    std_100_eval_score = np.std(evaluation_scores[-100:])\n",
        "    lst_100_exp_rat = np.array(\n",
        "        episode_exploration[-100:])/np.array(episode_timestep[-100:])\n",
        "    mean_100_exp_rat = np.mean(lst_100_exp_rat)\n",
        "    std_100_exp_rat = np.std(lst_100_exp_rat)\n",
        "\n",
        "    wallclock_elapsed = time.time() - training_start\n",
        "    results[episode-1] = total_step, mean_100_reward, \\\n",
        "        mean_100_eval_score, training_time, wallclock_elapsed\n",
        "\n",
        "    reached_debug_time = time.time() - last_debug_time >= LEAVE_PRINT_EVERY_N_SECS\n",
        "    reached_max_minutes = wallclock_elapsed >= max_minutes * 60\n",
        "    reached_max_episodes = episode >= max_episodes\n",
        "    reached_goal_mean_reward = mean_100_eval_score >= goal_mean_100_reward\n",
        "    training_is_over = reached_max_minutes or \\\n",
        "                       reached_max_episodes or \\\n",
        "                       reached_goal_mean_reward\n",
        "\n",
        "    elapsed_str = time.strftime(\"%H:%M:%S\", time.gmtime(time.time() - training_start))\n",
        "    debug_message = 'el {}, ep {:04}, ts {:06}, '\n",
        "    debug_message += 'ar 10 {:05.1f}\\u00B1{:05.1f}, '\n",
        "    debug_message += '100 {:05.1f}\\u00B1{:05.1f}, '\n",
        "    debug_message += 'ex 100 {:02.1f}\\u00B1{:02.1f}, '\n",
        "    debug_message += 'ev {:05.1f}\\u00B1{:05.1f}'\n",
        "    debug_message = debug_message.format(\n",
        "        elapsed_str, episode-1, total_step, mean_10_reward, std_10_reward,\n",
        "        mean_100_reward, std_100_reward, mean_100_exp_rat, std_100_exp_rat,\n",
        "        mean_100_eval_score, std_100_eval_score)\n",
        "    print(debug_message, end='\\r', flush=True)\n",
        "    if reached_debug_time or training_is_over:\n",
        "        print(ERASE_LINE + debug_message, flush=True)\n",
        "    if training_is_over:\n",
        "        if reached_max_minutes: print(u'--> reached_max_minutes \\u2715')\n",
        "            #debug_message += '--> reached_max_minutes \\u2715'\n",
        "        if reached_max_episodes: print(u'--> reached_max_episodes \\u2715')\n",
        "            #debug_message += '--> reached_max_episodes \\u2715'\n",
        "        if reached_goal_mean_reward: print(u'--> reached_goal_mean_reward \\u2713')\n",
        "            #debug_message += '--> reached_goal_mean_reward \\u2713'\n",
        "    return training_is_over, reached_debug_time"
      ]
    },
    {
      "cell_type": "markdown",
      "metadata": {
        "id": "C2RmoZW7GrEj"
      },
      "source": [
        "### REINFORCE Simulation"
      ]
    },
    {
      "cell_type": "code",
      "execution_count": null,
      "metadata": {
        "colab": {
          "base_uri": "https://localhost:8080/"
        },
        "id": "KsI6A5TeGrEj",
        "outputId": "0e72dcf9-585b-4717-8815-81c6e33741ca"
      },
      "outputs": [
        {
          "output_type": "stream",
          "name": "stdout",
          "text": [
            "\u001b[2Kel 00:00:00, ep 0000, ts 000016, ar 10 016.0±000.0, 100 016.0±000.0, ex 100 0.5±0.0, ev 017.0±000.0\n",
            "\u001b[2Kel 00:00:30, ep 0215, ts 008716, ar 10 061.8±030.2, 100 052.7±033.5, ex 100 0.4±0.1, ev 087.9±074.5\n",
            "\u001b[2Kel 00:01:00, ep 0358, ts 019486, ar 10 117.7±071.6, 100 076.5±058.4, ex 100 0.3±0.1, ev 181.3±180.9\n",
            "\u001b[2Kel 00:01:30, ep 0476, ts 035158, ar 10 198.8±061.0, 100 142.7±082.7, ex 100 0.3±0.0, ev 256.1±158.1\n",
            "\u001b[2Kel 00:02:01, ep 0539, ts 051926, ar 10 271.8±084.7, 100 221.0±103.6, ex 100 0.3±0.0, ev 367.1±138.4\n",
            "\u001b[2Kel 00:02:31, ep 0609, ts 066999, ar 10 204.2±035.4, 100 227.1±080.0, ex 100 0.3±0.0, ev 409.5±097.9\n",
            "\u001b[2Kel 00:03:01, ep 0680, ts 084661, ar 10 267.6±122.8, 100 246.1±100.0, ex 100 0.3±0.0, ev 449.7±093.8\n",
            "\u001b[2Kel 00:03:31, ep 0771, ts 103077, ar 10 184.1±042.6, 100 206.8±124.9, ex 100 0.2±0.0, ev 263.2±143.2\n",
            "\u001b[2Kel 00:04:01, ep 0830, ts 124863, ar 10 389.5±045.1, 100 273.8±137.3, ex 100 0.2±0.0, ev 304.2±145.1\n",
            "\u001b[2Kel 00:04:32, ep 0882, ts 146835, ar 10 373.5±082.3, 100 411.1±073.9, ex 100 0.2±0.0, ev 457.9±059.4\n",
            "\u001b[2Kel 00:04:54, ep 0919, ts 163316, ar 10 387.3±083.4, 100 427.4±080.2, ex 100 0.2±0.0, ev 476.3±046.4\n",
            "--> reached_goal_mean_reward ✓\n"
          ]
        }
      ],
      "source": [
        "environment_settings = {\n",
        "    'env_name': 'CartPole-v1',\n",
        "    'gamma': 1.00,\n",
        "    'max_minutes': 10,\n",
        "    'max_episodes': 10000,\n",
        "    'goal_mean_100_reward': 475\n",
        "}\n",
        "env_name, gamma, max_minutes, \\\n",
        "max_episodes, goal_mean_100_reward = environment_settings.values()\n",
        "\n",
        "seed = 12\n",
        "policy_optimizer_lr = 0.0005\n",
        "\n",
        "env = gym.make('CartPole-v1')\n",
        "nS, nA = env.observation_space.shape[0], env.action_space.n\n",
        "\n",
        "\n",
        "training_start, last_debug_time = time.time(), float('-inf')\n",
        "torch.manual_seed(seed) ; np.random.seed(seed) ; random.seed(seed)\n",
        "\n",
        "episode_timestep = []\n",
        "episode_reward = []\n",
        "episode_seconds = []\n",
        "episode_exploration = []\n",
        "evaluation_scores = []\n",
        "\n",
        "agent = PGmodel(nS,nA, hidden_dims=(128,64)) # policy_model\n",
        "policy_optimizer = optim.Adam(agent.parameters(), lr=policy_optimizer_lr) # policy_optimizer\n",
        "\n",
        "results = np.empty((max_episodes, 5))\n",
        "# results = [total_step, mean_100_reward, mean_100_eval_score, training_time, wallclock_elapsed]\n",
        "results[:] = np.nan\n",
        "training_time = 0\n",
        "\n",
        "for episode in range(1, max_episodes + 1):\n",
        "    episode_start = time.time()\n",
        "\n",
        "    state, is_terminal = env.reset(), False\n",
        "    episode_reward.append(0.0)\n",
        "    episode_timestep.append(0.0)\n",
        "    episode_exploration.append(0.0)\n",
        "\n",
        "    # collect rollout\n",
        "    logpas, rewards = [], []\n",
        "    for step in count():\n",
        "        state, is_terminal = PG_interaction_step(agent, state, env,\n",
        "                                              logpas, rewards, episode_reward,\n",
        "                                              episode_timestep, episode_exploration)\n",
        "        if is_terminal:\n",
        "            gc.collect()\n",
        "            break\n",
        "\n",
        "    # optimizing the model, once per episode\n",
        "    optimizing_PGmodel(rewards, gamma, logpas, policy_optimizer)\n",
        "\n",
        "    # collect statistics\n",
        "    training_is_over, reached_debug_time = stats(agent, env, training_time, last_debug_time, results,\n",
        "                                                            episode_start, episode_seconds, episode_timestep,\n",
        "                                                            episode_reward, episode_exploration)\n",
        "\n",
        "    if reached_debug_time or training_is_over:\n",
        "        last_debug_time = time.time()\n",
        "    if training_is_over: break\n"
      ]
    },
    {
      "cell_type": "markdown",
      "metadata": {
        "id": "W8Dn7kVyGrEk"
      },
      "source": [
        "### REINFORCE Results"
      ]
    },
    {
      "cell_type": "code",
      "execution_count": null,
      "metadata": {
        "colab": {
          "base_uri": "https://localhost:8080/",
          "height": 445
        },
        "id": "_qowQE4iGrEk",
        "outputId": "5a001060-3709-4dc1-da96-2586ff22035a"
      },
      "outputs": [
        {
          "output_type": "display_data",
          "data": {
            "text/plain": [
              "<Figure size 1000x500 with 1 Axes>"
            ],
            "image/png": "[encoded data removed]"
          },
          "metadata": {}
        }
      ],
      "source": [
        "#x=np.arange(0,episode-1)\n",
        "y=results[:(episode-1),1]\n",
        "\n",
        "plt.figure(figsize=(10, 5))\n",
        "plt.plot(y, label='mean reward of last 100 episodes')\n",
        "plt.legend()\n",
        "plt.show()\n",
        "plt.close()\n"
      ]
    },
    {
      "cell_type": "markdown",
      "metadata": {
        "id": "dcKAFxKaGrEk"
      },
      "source": [
        "# Vanilla Policy Gradient (VPG)\n",
        "### State Value model"
      ]
    },
    {
      "cell_type": "code",
      "execution_count": null,
      "metadata": {
        "id": "wI3HQDhPGrEk"
      },
      "outputs": [],
      "source": [
        "class SVmodel(nn.Module):\n",
        "    def __init__(self,\n",
        "                 input_dim,\n",
        "                 output_dim=1,\n",
        "                 hidden_dims=(32,32),\n",
        "                 activation_fc=F.relu):\n",
        "        super(SVmodel, self).__init__()\n",
        "        self.activation_fc = activation_fc\n",
        "\n",
        "        self.input_layer = nn.Linear(input_dim, hidden_dims[0])\n",
        "        self.hidden_layers = nn.ModuleList()\n",
        "        for i in range(len(hidden_dims)-1):\n",
        "            hidden_layer = nn.Linear(hidden_dims[i], hidden_dims[i+1])\n",
        "            self.hidden_layers.append(hidden_layer)\n",
        "        self.output_layer = nn.Linear(hidden_dims[-1], output_dim)\n",
        "\n",
        "    def _format(self, state):\n",
        "        x = state\n",
        "        if not isinstance(x, torch.Tensor):\n",
        "            x = torch.tensor(x, dtype=torch.float32)\n",
        "            x = x.unsqueeze(0)\n",
        "        return x\n",
        "\n",
        "    def forward(self, state):\n",
        "        x = self._format(state)\n",
        "        x = self.activation_fc(self.input_layer(x))\n",
        "        for hidden_layer in self.hidden_layers:\n",
        "            x = self.activation_fc(hidden_layer(x))\n",
        "        return self.output_layer(x)"
      ]
    },
    {
      "cell_type": "markdown",
      "metadata": {
        "id": "8WJCgWTxGrEk"
      },
      "source": [
        "### VPG Learning Functions"
      ]
    },
    {
      "cell_type": "code",
      "execution_count": null,
      "metadata": {
        "id": "riG0mnN0GrEk"
      },
      "outputs": [],
      "source": [
        "def VPG_interaction_step(agent_PGmodel, agent_SVmodel, state, env,\n",
        "                         logpas, entropies, rewards, values,\n",
        "                         episode_reward, episode_timestep, episode_exploration):\n",
        "        action, is_exploratory, logpa, entropy = agent_PGmodel.full_pass(state)\n",
        "        new_state, reward, is_terminal, info = env.step(action)\n",
        "        is_truncated = 'TimeLimit.truncated' in info and info['TimeLimit.truncated']\n",
        "\n",
        "        logpas.append(logpa)\n",
        "        entropies.append(entropy)\n",
        "        rewards.append(reward)\n",
        "        values.append(agent_SVmodel(state))\n",
        "\n",
        "        episode_reward[-1] += reward\n",
        "        episode_timestep[-1] += 1\n",
        "        episode_exploration[-1] += int(is_exploratory)\n",
        "        return new_state, is_terminal, is_truncated\n",
        "\n",
        "def optimizing_VPG(agent_PGmodel, agent_SVmodel,\n",
        "                   rewards, gamma, logpas, entropies, values,\n",
        "                   entropy_loss_weight,\n",
        "                   policy_optimizer, value_optimizer):\n",
        "    T = len(rewards)\n",
        "    discounts = np.logspace(0, T, num=T, base=gamma, endpoint=False)\n",
        "    returns = np.array([np.sum(discounts[:T-t] * rewards[t:]) for t in range(T)])\n",
        "\n",
        "    discounts = torch.FloatTensor(discounts[:-1]).unsqueeze(1)\n",
        "    returns = torch.FloatTensor(returns[:-1]).unsqueeze(1)\n",
        "    logpas = torch.cat(logpas)\n",
        "    entropies = torch.cat(entropies)\n",
        "    values = torch.cat(values)\n",
        "\n",
        "    ################## fill below ##################\n",
        "    logpas = []; entropies = []; rewards = []; values = []\n",
        "    while not is_terminal:\n",
        "      new_state, is_terminal, is_truncated = VPG_interaction_step(agent_PG, agent_SV,\n",
        "                                                              state, env,\n",
        "                                                              logpas, entropies, rewards, values,\n",
        "                                                              episode_reward, episode_timestep, episode_exploration)\n",
        "    state = new_state\n",
        "\n",
        "\n",
        "\n",
        "\n",
        "    #policy_optimizer.zero_grad()\n",
        "    #loss.backward()\n",
        "    #torch.nn.utils.clip_grad_norm_(agent_PGmodel.parameters(), 1)\n",
        "    #policy_optimizer.step()\n",
        "\n",
        "    ################## fill below ##################\n",
        "\n",
        "\n",
        "\n",
        "    #value_optimizer.zero_grad()\n",
        "    #value_loss.backward()\n",
        "    #torch.nn.utils.clip_grad_norm_(agent_SVmodel.parameters(), float('inf'))\n",
        "    #value_optimizer.step()"
      ]
    },
    {
      "cell_type": "markdown",
      "metadata": {
        "id": "JnM7YiGuGrEk"
      },
      "source": [
        "### VPG Simulation"
      ]
    },
    {
      "cell_type": "code",
      "execution_count": null,
      "metadata": {
        "colab": {
          "base_uri": "https://localhost:8080/"
        },
        "id": "OQJU6ONJGrEl",
        "outputId": "9e269fdf-3b51-4372-c35b-0840a052dcbf"
      },
      "outputs": [
        {
          "output_type": "stream",
          "name": "stdout",
          "text": [
            "\u001b[2Kel 00:00:00, ep 0000, ts 000012, ar 10 012.0±000.0, 100 012.0±000.0, ex 100 0.6±0.0, ev 024.0±000.0\n",
            "\u001b[2Kel 00:00:30, ep 0162, ts 008182, ar 10 141.5±037.9, 100 063.3±051.0, ex 100 0.4±0.1, ev 183.6±134.2\n",
            "\u001b[2Kel 00:01:00, ep 0240, ts 019724, ar 10 223.5±116.6, 100 144.5±081.1, ex 100 0.3±0.0, ev 377.4±105.0\n",
            "\u001b[2Kel 00:01:31, ep 0298, ts 034095, ar 10 265.9±134.2, 100 214.8±108.8, ex 100 0.3±0.0, ev 385.2±090.5\n",
            "\u001b[2Kel 00:02:01, ep 0339, ts 049320, ar 10 335.1±120.3, 100 298.8±127.8, ex 100 0.3±0.0, ev 436.2±088.8\n",
            "\u001b[2Kel 00:02:31, ep 0378, ts 065069, ar 10 407.6±080.4, 100 360.4±124.3, ex 100 0.3±0.0, ev 476.4±059.1\n",
            "--> reached_goal_mean_reward ✓\n"
          ]
        }
      ],
      "source": [
        "# should change to VPG\n",
        "\n",
        "environment_settings = {\n",
        "    'env_name': 'CartPole-v1',\n",
        "    'gamma': 1.00,\n",
        "    'max_minutes': 10,\n",
        "    'max_episodes': 10000,\n",
        "    'goal_mean_100_reward': 475\n",
        "}\n",
        "env_name, gamma, max_minutes, \\\n",
        "max_episodes, goal_mean_100_reward = environment_settings.values()\n",
        "\n",
        "seed = 12\n",
        "policy_optimizer_lr = 0.0005\n",
        "value_optimizer_lr = 0.0007\n",
        "entropy_loss_weight = 0.001\n",
        "\n",
        "env = gym.make('CartPole-v1')\n",
        "nS, nA = env.observation_space.shape[0], env.action_space.n\n",
        "\n",
        "\n",
        "training_start, last_debug_time = time.time(), float('-inf')\n",
        "torch.manual_seed(seed) ; np.random.seed(seed) ; random.seed(seed)\n",
        "\n",
        "episode_timestep = []\n",
        "episode_reward = []\n",
        "episode_seconds = []\n",
        "episode_exploration = []\n",
        "evaluation_scores = []\n",
        "\n",
        "agent_PG = PGmodel(nS,nA, hidden_dims=(128,64)) # policy_model\n",
        "policy_optimizer = optim.Adam(agent_PG.parameters(), lr=policy_optimizer_lr) # policy_optimizer\n",
        "agent_SV = SVmodel(nS, hidden_dims=(256,128)) # value_model\n",
        "value_optimizer = optim.RMSprop(agent_SV.parameters(), lr=value_optimizer_lr)\n",
        "\n",
        "results = np.empty((max_episodes, 5))\n",
        "# results = [total_step, mean_100_reward, mean_100_eval_score, training_time, wallclock_elapsed]\n",
        "results[:] = np.nan\n",
        "training_time = 0\n",
        "\n",
        "for episode in range(1, max_episodes + 1):\n",
        "    episode_start = time.time()\n",
        "\n",
        "    state, is_terminal = env.reset(), False\n",
        "    episode_reward.append(0.0)\n",
        "    episode_timestep.append(0.0)\n",
        "    episode_exploration.append(0.0)\n",
        "\n",
        "    ################## fill below ##################\n",
        "    # collect rollout\n",
        "\n",
        "\n",
        "\n",
        "\n",
        "\n",
        "\n",
        "\n",
        "    # optimizing the model, once per episode\n",
        "\n",
        "\n",
        "\n",
        "\n",
        "\n",
        "\n",
        "\n",
        "    ################# fill below ##################\n",
        "    # collect statistics\n",
        "    training_is_over, reached_debug_time = stats(agent_PG, env, training_time, last_debug_time, results,\n",
        "                                                            episode_start, episode_seconds, episode_timestep,\n",
        "                                                            episode_reward, episode_exploration)\n",
        "\n",
        "    if reached_debug_time or training_is_over:\n",
        "        last_debug_time = time.time()\n",
        "    if training_is_over: break"
      ]
    },
    {
      "cell_type": "markdown",
      "metadata": {
        "id": "_kFQkfWXGrEl"
      },
      "source": [
        "### VPG Results"
      ]
    },
    {
      "cell_type": "code",
      "execution_count": null,
      "metadata": {
        "colab": {
          "base_uri": "https://localhost:8080/",
          "height": 445
        },
        "id": "coQ9zbm6GrEl",
        "outputId": "ae0f9880-2cc0-4020-ba30-32392eafb2dc"
      },
      "outputs": [
        {
          "output_type": "display_data",
          "data": {
            "text/plain": [
              "<Figure size 1000x500 with 1 Axes>"
            ],
            "image/png": "[encoded data removed]"
          },
          "metadata": {}
        }
      ],
      "source": [
        "#x=np.arange(0,episode-1)\n",
        "z=results[:(episode-1),1]\n",
        "\n",
        "plt.figure(figsize=(10, 5))\n",
        "plt.plot(y, label='REINFORCE, mean reward of last 100 episodes')\n",
        "plt.plot(z, label='VPG, mean reward of last 100 episodes')\n",
        "plt.legend()\n",
        "plt.show()\n",
        "plt.close()\n"
      ]
    }
  ],
  "metadata": {
    "kernelspec": {
      "display_name": "Python 3",
      "name": "python3"
    },
    "language_info": {
      "codemirror_mode": {
        "name": "ipython",
        "version": 3
      },
      "file_extension": ".py",
      "mimetype": "text/x-python",
      "name": "python",
      "nbconvert_exporter": "python",
      "pygments_lexer": "ipython3",
      "version": "3.8.8"
    },
    "colab": {
      "provenance": [],
      "gpuType": "T4"
    },
    "accelerator": "GPU"
  },
  "nbformat": 4,
  "nbformat_minor": 0
}